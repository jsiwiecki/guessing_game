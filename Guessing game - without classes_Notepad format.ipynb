{
 "cells": [
  {
   "cell_type": "code",
   "execution_count": null,
   "metadata": {},
   "outputs": [],
   "source": [
    "import random"
   ]
  },
  {
   "cell_type": "code",
   "execution_count": null,
   "metadata": {},
   "outputs": [],
   "source": [
    "#Computer player generates a random number within the range <1, 100> (inclusive).\n",
    "def assign_rand_num(min_value,max_value):\n",
    "    comp_number = random.randint(min_value,max_value)\n",
    "    return comp_number"
   ]
  },
  {
   "cell_type": "code",
   "execution_count": null,
   "metadata": {},
   "outputs": [],
   "source": [
    "#Computer player asks the human player to guess the number. Human player provides the guess.\n",
    "\n",
    "def ask_player(min_value, max_value):\n",
    "    while True:\n",
    "        player_number = input(\"Give an integer number between {} and {}\".format(min_value, max_value))\n",
    "        try:\n",
    "            player_number = int(player_number)\n",
    "            if player_number >= min_value and player_number <= max_value:\n",
    "                return player_number\n",
    "        except ValueError:\n",
    "            print(\"It's not a number. Please put a number between {} and {}. Try again\".format(min_value,max_value))\n",
    "            continue\n",
    "        else:\n",
    "            print(\"It's not an integer number between {} and {}. Please try again\".format(min_value,max_value))\n",
    "            continue"
   ]
  },
  {
   "cell_type": "code",
   "execution_count": null,
   "metadata": {},
   "outputs": [],
   "source": [
    "#Computer player compares the numbers and provides a feedback for the human player \n",
    "#whether the given number was too low, too high or correct.\n",
    "#The steps 2-4 are repeated until the human player gives the correct number.\n",
    "\n",
    "def compare_user_comp(min_value, max_value):\n",
    "    comp_number = assign_rand_num(min_value,max_value)\n",
    "    player_number = None\n",
    "    \n",
    "    while comp_number != player_number:\n",
    "        player_number = ask_player(min_value,max_value)\n",
    "        if comp_number < player_number:\n",
    "            print(\"Hint: Your number is too high. Try once more!\")\n",
    "            continue\n",
    "        elif comp_number > player_number:\n",
    "            print(\"Hint: Your number is too low. Try once more!\")\n",
    "            continue\n",
    "    print(\"Congrats! That's the correct number\")"
   ]
  },
  {
   "cell_type": "code",
   "execution_count": null,
   "metadata": {},
   "outputs": [],
   "source": [
    "def game():\n",
    "    min_value = 1\n",
    "    max_value = 100\n",
    "    \n",
    "    compare_user_comp(min_value, max_value)\n",
    "    run()"
   ]
  },
  {
   "cell_type": "code",
   "execution_count": null,
   "metadata": {},
   "outputs": [],
   "source": [
    "def run():\n",
    "    play = str.lower(input(\"Do you want to run a guesing game? (y/n)\"))\n",
    "    if play == 'y':\n",
    "        game()\n",
    "    elif play =='n': \n",
    "        print('Bye!')\n",
    "    else:\n",
    "        print('Please use only \"y\" or \"n\"')\n",
    "        run()"
   ]
  },
  {
   "cell_type": "code",
   "execution_count": null,
   "metadata": {},
   "outputs": [],
   "source": [
    "if __name__ == '__main__': run() "
   ]
  }
 ],
 "metadata": {
  "kernelspec": {
   "display_name": "Python 3",
   "language": "python",
   "name": "python3"
  },
  "language_info": {
   "codemirror_mode": {
    "name": "ipython",
    "version": 3
   },
   "file_extension": ".py",
   "mimetype": "text/x-python",
   "name": "python",
   "nbconvert_exporter": "python",
   "pygments_lexer": "ipython3",
   "version": "3.7.3"
  }
 },
 "nbformat": 4,
 "nbformat_minor": 4
}
